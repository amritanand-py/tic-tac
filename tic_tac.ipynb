{
  "nbformat": 4,
  "nbformat_minor": 0,
  "metadata": {
    "colab": {
      "provenance": []
    },
    "kernelspec": {
      "name": "python3",
      "display_name": "Python 3"
    },
    "language_info": {
      "name": "python"
    }
  },
  "cells": [
    {
      "cell_type": "code",
      "source": [
        "import os\n",
        "import time"
      ],
      "metadata": {
        "id": "zX7LAYzHPGEG"
      },
      "execution_count": null,
      "outputs": []
    },
    {
      "cell_type": "code",
      "source": [
        "board = [' ',' ',' ',' ',' ',' ',' ',' ',' ',' ']\n",
        "player = 1"
      ],
      "metadata": {
        "id": "Biz7CojbPTWd"
      },
      "execution_count": null,
      "outputs": []
    },
    {
      "cell_type": "markdown",
      "source": [
        "now declaring Flags"
      ],
      "metadata": {
        "id": "UNsxdUMUPntb"
      }
    },
    {
      "cell_type": "code",
      "source": [
        "Win = 1\n",
        "Draw = -1\n",
        "Running = 0\n",
        "Stop = 1\n",
        "###########################\n",
        "Game = Running\n",
        "Mark = 'X'"
      ],
      "metadata": {
        "id": "wUBifql0PjMD"
      },
      "execution_count": null,
      "outputs": []
    },
    {
      "cell_type": "markdown",
      "source": [
        "This Function Draws Game Board"
      ],
      "metadata": {
        "id": "Qu-q7bHSQUJ7"
      }
    },
    {
      "cell_type": "code",
      "source": [
        "def DrawBoard():\n",
        "  print(\" %c | %c | %c \" % (board[1],board[2],board[3]))\n",
        "  print(\"___|___|___\")\n",
        "  print(\" %c | %c | %c \" % (board[4],board[5],board[6]))\n",
        "  print(\"___|___|___\")\n",
        "  print(\" %c | %c | %c \" % (board[7],board[8],board[9]))\n",
        "  print(\"   |   |   \")\n",
        ""
      ],
      "metadata": {
        "id": "4XsI_G0bQLyr"
      },
      "execution_count": null,
      "outputs": []
    },
    {
      "cell_type": "markdown",
      "source": [
        "This Function Checks position is empty or not"
      ],
      "metadata": {
        "id": "mVmynLrPQcVs"
      }
    },
    {
      "cell_type": "code",
      "source": [
        "def CheckPosition(x):\n",
        "    if(board[x] == ' '):\n",
        "        return True\n",
        "    else:\n",
        "        return False"
      ],
      "metadata": {
        "id": "B2SvEWo-QfRb"
      },
      "execution_count": null,
      "outputs": []
    },
    {
      "cell_type": "markdown",
      "source": [
        "This Function Checks player has won or not\n",
        "\n",
        "\n",
        "\n"
      ],
      "metadata": {
        "id": "LVP6tXadR1NS"
      }
    },
    {
      "cell_type": "code",
      "source": [
        "def CheckWin():\n",
        "    global Game\n",
        "\n",
        "    #Horizontal winning condition\n",
        "    if(board[1] == board[2] and board[2] == board[3] and board[1] != ' '):\n",
        "        Game = Win\n",
        "    elif(board[4] == board[5] and board[5] == board[6] and board[4] != ' '):\n",
        "        Game = Win\n",
        "    elif(board[7] == board[8] and board[8] == board[9] and board[7] != ' '):\n",
        "        Game = Win\n",
        "\n",
        "    #Vertical Winning Condition\n",
        "    elif(board[1] == board[4] and board[4] == board[7] and board[1] != ' '):\n",
        "        Game = Win\n",
        "    elif(board[2] == board[5] and board[5] == board[8] and board[2] != ' '):\n",
        "        Game = Win\n",
        "    elif(board[3] == board[6] and board[6] == board[9] and board[3] != ' '):\n",
        "        Game=Win\n",
        "\n",
        "    #Diagonal Winning Condition\n",
        "    elif(board[1] == board[5] and board[5] == board[9] and board[5] != ' '):\n",
        "        Game = Win\n",
        "    elif(board[3] == board[5] and board[5] == board[7] and board[5] != ' '):\n",
        "        Game=Win\n",
        "\n",
        "\n",
        "    #Match Tie or Draw Condition\n",
        "\n",
        "\n",
        "    elif(board[1]!=' ' and board[2]!=' ' and board[3]!=' ' and board[4]!=' ' and board[5]!=' ' and board[6]!=' ' and board[7]!=' ' and board[8]!=' ' and board[9]!=' '):\n",
        "        Game=Draw\n",
        "    else:\n",
        "        Game=Running"
      ],
      "metadata": {
        "id": "mPTkn8xcRxNq"
      },
      "execution_count": null,
      "outputs": []
    },
    {
      "cell_type": "code",
      "source": [
        "print(\"Name:- Amrit Anand(RA2011030010166\")"
      ],
      "metadata": {
        "colab": {
          "base_uri": "https://localhost:8080/"
        },
        "id": "DB0UKlRST6Zc",
        "outputId": "b03f8251-3626-4d3c-d0e5-8e10f10a92a6"
      },
      "execution_count": null,
      "outputs": [
        {
          "output_type": "stream",
          "name": "stdout",
          "text": [
            "Name:- Amrit Anand(RA2011030010166\n"
          ]
        }
      ]
    },
    {
      "cell_type": "code",
      "execution_count": null,
      "metadata": {
        "colab": {
          "base_uri": "https://localhost:8080/"
        },
        "id": "3YiDNvrpLXa9",
        "outputId": "554f63a8-5be7-4e2c-8815-3a4fe6a6a2bc"
      },
      "outputs": [
        {
          "output_type": "stream",
          "name": "stdout",
          "text": [
            "Ente Player 1 Name:himanshu\n",
            "Enter Player 2 Name: Amrit\n",
            "himanshu  [X] VS Amrit [O]\n",
            "\n",
            "\n",
            "\n",
            "Please Wait...\n",
            "   |   |   \n",
            "___|___|___\n",
            "   |   |   \n",
            "___|___|___\n",
            "   |   |   \n",
            "   |   |   \n",
            "himanshu chance\n",
            "Enter the position between [1-9] where you want to mark : 3\n",
            "   |   | X \n",
            "___|___|___\n",
            "   |   |   \n",
            "___|___|___\n",
            "   |   |   \n",
            "   |   |   \n",
            "Amrit chance\n",
            "Enter the position between [1-9] where you want to mark : 1\n",
            " O |   | X \n",
            "___|___|___\n",
            "   |   |   \n",
            "___|___|___\n",
            "   |   |   \n",
            "   |   |   \n",
            "himanshu chance\n",
            "Enter the position between [1-9] where you want to mark : 7\n",
            " O |   | X \n",
            "___|___|___\n",
            "   |   |   \n",
            "___|___|___\n",
            " X |   |   \n",
            "   |   |   \n",
            "Amrit chance\n",
            "Enter the position between [1-9] where you want to mark : 5\n",
            " O |   | X \n",
            "___|___|___\n",
            "   | O |   \n",
            "___|___|___\n",
            " X |   |   \n",
            "   |   |   \n",
            "himanshu chance\n",
            "Enter the position between [1-9] where you want to mark : 9\n",
            " O |   | X \n",
            "___|___|___\n",
            "   | O |   \n",
            "___|___|___\n",
            " X |   | X \n",
            "   |   |   \n",
            "Amrit chance\n",
            "Enter the position between [1-9] where you want to mark : 4\n",
            " O |   | X \n",
            "___|___|___\n",
            " O | O |   \n",
            "___|___|___\n",
            " X |   | X \n",
            "   |   |   \n",
            "himanshu chance\n",
            "Enter the position between [1-9] where you want to mark : 8\n",
            " O |   | X \n",
            "___|___|___\n",
            " O | O |   \n",
            "___|___|___\n",
            " X | X | X \n",
            "   |   |   \n",
            "himanshu Hurray!!! You Won this spledid game\n"
          ]
        }
      ],
      "source": [
        "p1=input(\"Ente Player 1 Name:\")\n",
        "p2=input(\"Enter Player 2 Name: \")\n",
        "print(p1,\" [X] VS\",p2, \"[O]\\n\")\n",
        "print()\n",
        "print()\n",
        "print(\"Please Wait...\")\n",
        "time.sleep(3)\n",
        "while(Game == Running):\n",
        "    os.system('cls')\n",
        "    DrawBoard()\n",
        "    if(player % 2 != 0):\n",
        "        print(p1,\"chance\")\n",
        "        Mark = 'X'\n",
        "    else:\n",
        "        print(p2,\"chance\")\n",
        "        Mark = 'O'\n",
        "    choice = int(input(\"Enter the position between [1-9] where you want to mark : \"))\n",
        "    if(CheckPosition(choice)):\n",
        "        board[choice] = Mark\n",
        "        player+=1\n",
        "        CheckWin()\n",
        "\n",
        "os.system('cls')\n",
        "DrawBoard()\n",
        "if(Game==Draw):\n",
        "    print(\"Ah Shit Game Draw\")\n",
        "elif(Game==Win):\n",
        "    player-=1\n",
        "    if(player%2!=0):\n",
        "        print(p1,\"Hurray!!! You Won this spledid game\")\n",
        "    else:\n",
        "        print(p2,\"Hurray!!! You Won this spledid game\")"
      ]
    }
  ]
}